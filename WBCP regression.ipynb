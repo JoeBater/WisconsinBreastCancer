{
 "cells": [
  {
   "cell_type": "markdown",
   "metadata": {},
   "source": [
    "# Wisconsin Breast Cancer (Prognostic)"
   ]
  },
  {
   "cell_type": "markdown",
   "metadata": {},
   "source": [
    "https://archive.ics.uci.edu/ml/datasets/Breast+Cancer+Wisconsin+(Prognostic)"
   ]
  },
  {
   "cell_type": "markdown",
   "metadata": {},
   "source": [
    "Load the libraries, dataset, basic EDA, feature creation..."
   ]
  },
  {
   "cell_type": "code",
   "execution_count": 1,
   "metadata": {},
   "outputs": [
    {
     "name": "stdout",
     "output_type": "stream",
     "text": [
      "xgb version 1.1.0\n"
     ]
    },
    {
     "name": "stderr",
     "output_type": "stream",
     "text": [
      "Using TensorFlow backend.\n"
     ]
    },
    {
     "name": "stdout",
     "output_type": "stream",
     "text": [
      "imblearn version 0.6.1\n"
     ]
    }
   ],
   "source": [
    "# load libraries\n",
    "import pandas as pd\n",
    "import numpy as np\n",
    "import matplotlib.pyplot as plt\n",
    "\n",
    "import seaborn as sns\n",
    "\n",
    "from sklearn import preprocessing\n",
    "from sklearn.model_selection import train_test_split\n",
    "from sklearn.model_selection import cross_val_score\n",
    "from sklearn.model_selection import RepeatedKFold\n",
    "\n",
    "from sklearn.linear_model import LinearRegression\n",
    "from sklearn.cluster import KMeans\n",
    "\n",
    "import xgboost as xgb\n",
    "print('xgb version',xgb.__version__)\n"
   ]
  },
  {
   "cell_type": "code",
   "execution_count": 2,
   "metadata": {},
   "outputs": [],
   "source": [
    "# load data set\n",
    "dirpath = r'C:\\Users\\joeba\\OneDrive\\Documents\\ML\\wbcp'"
   ]
  },
  {
   "cell_type": "code",
   "execution_count": 3,
   "metadata": {},
   "outputs": [
    {
     "data": {
      "text/plain": [
       "Index(['ID_number', 'Outcome', 'Recurrence_time', 'radius_mean',\n",
       "       'texture_mean', 'perimeter_mean', 'area_mean', 'smoothness_mean',\n",
       "       'compactness_mean', 'concavity_mean', 'concave_points_mean',\n",
       "       'symmetry_mean', 'fractal_dimension_mean', 'radius_se', 'texture_se',\n",
       "       'perimeter_se', 'area_se', 'smoothness_se', 'compactness_se',\n",
       "       'concavity_se', 'concave_points_se', 'symmetry_se',\n",
       "       'fractal_dimension_se', 'radius_worst', 'texture_worst',\n",
       "       'perimeter_worst', 'area_worst', 'smoothness_worst',\n",
       "       'compactness_worst', 'concavity_worst', 'concave_points_worst',\n",
       "       'symmetry_worst', 'fractal_dimension_worst', 'tumor_cm', 'lymph_nodes'],\n",
       "      dtype='object')"
      ]
     },
     "execution_count": 3,
     "metadata": {},
     "output_type": "execute_result"
    }
   ],
   "source": [
    "df = pd.read_csv(dirpath+'/wpbc.data.csv')\n",
    "df.columns"
   ]
  },
  {
   "cell_type": "code",
   "execution_count": 4,
   "metadata": {},
   "outputs": [
    {
     "data": {
      "text/plain": [
       "(198, 35)"
      ]
     },
     "execution_count": 4,
     "metadata": {},
     "output_type": "execute_result"
    }
   ],
   "source": [
    "df.shape"
   ]
  },
  {
   "cell_type": "code",
   "execution_count": 5,
   "metadata": {},
   "outputs": [],
   "source": [
    "# choose only the recurring instances\n",
    "df = df[df['Outcome'] == 'R']"
   ]
  },
  {
   "cell_type": "code",
   "execution_count": 6,
   "metadata": {},
   "outputs": [
    {
     "data": {
      "text/plain": [
       "(47, 35)"
      ]
     },
     "execution_count": 6,
     "metadata": {},
     "output_type": "execute_result"
    }
   ],
   "source": [
    "df.shape"
   ]
  },
  {
   "cell_type": "code",
   "execution_count": 7,
   "metadata": {},
   "outputs": [
    {
     "data": {
      "text/html": [
       "<div>\n",
       "<style scoped>\n",
       "    .dataframe tbody tr th:only-of-type {\n",
       "        vertical-align: middle;\n",
       "    }\n",
       "\n",
       "    .dataframe tbody tr th {\n",
       "        vertical-align: top;\n",
       "    }\n",
       "\n",
       "    .dataframe thead th {\n",
       "        text-align: right;\n",
       "    }\n",
       "</style>\n",
       "<table border=\"1\" class=\"dataframe\">\n",
       "  <thead>\n",
       "    <tr style=\"text-align: right;\">\n",
       "      <th></th>\n",
       "      <th>ID_number</th>\n",
       "      <th>Outcome</th>\n",
       "      <th>Recurrence_time</th>\n",
       "      <th>radius_mean</th>\n",
       "      <th>texture_mean</th>\n",
       "      <th>perimeter_mean</th>\n",
       "      <th>area_mean</th>\n",
       "      <th>smoothness_mean</th>\n",
       "      <th>compactness_mean</th>\n",
       "      <th>concavity_mean</th>\n",
       "      <th>...</th>\n",
       "      <th>area_worst</th>\n",
       "      <th>smoothness_worst</th>\n",
       "      <th>compactness_worst</th>\n",
       "      <th>concavity_worst</th>\n",
       "      <th>concave_points_worst</th>\n",
       "      <th>symmetry_worst</th>\n",
       "      <th>fractal_dimension_worst</th>\n",
       "      <th>tumor_cm</th>\n",
       "      <th>lymph_nodes</th>\n",
       "      <th>rTime6</th>\n",
       "    </tr>\n",
       "  </thead>\n",
       "  <tbody>\n",
       "    <tr>\n",
       "      <td>4</td>\n",
       "      <td>843584</td>\n",
       "      <td>R</td>\n",
       "      <td>27</td>\n",
       "      <td>20.29</td>\n",
       "      <td>14.34</td>\n",
       "      <td>135.10</td>\n",
       "      <td>1297.0</td>\n",
       "      <td>0.1003</td>\n",
       "      <td>0.1328</td>\n",
       "      <td>0.19800</td>\n",
       "      <td>...</td>\n",
       "      <td>0.2050</td>\n",
       "      <td>0.4000</td>\n",
       "      <td>0.1625</td>\n",
       "      <td>0.2364</td>\n",
       "      <td>0.07678</td>\n",
       "      <td>3.5</td>\n",
       "      <td>0</td>\n",
       "      <td>0.7572</td>\n",
       "      <td>0.7813</td>\n",
       "      <td>24.0</td>\n",
       "    </tr>\n",
       "    <tr>\n",
       "      <td>5</td>\n",
       "      <td>843786</td>\n",
       "      <td>R</td>\n",
       "      <td>77</td>\n",
       "      <td>12.75</td>\n",
       "      <td>15.29</td>\n",
       "      <td>84.60</td>\n",
       "      <td>502.7</td>\n",
       "      <td>0.1189</td>\n",
       "      <td>0.1569</td>\n",
       "      <td>0.16640</td>\n",
       "      <td>...</td>\n",
       "      <td>0.4196</td>\n",
       "      <td>0.5999</td>\n",
       "      <td>0.1709</td>\n",
       "      <td>0.3485</td>\n",
       "      <td>0.11790</td>\n",
       "      <td>2.5</td>\n",
       "      <td>0</td>\n",
       "      <td>0.3877</td>\n",
       "      <td>0.7402</td>\n",
       "      <td>78.0</td>\n",
       "    </tr>\n",
       "    <tr>\n",
       "      <td>7</td>\n",
       "      <td>844582</td>\n",
       "      <td>R</td>\n",
       "      <td>77</td>\n",
       "      <td>13.71</td>\n",
       "      <td>20.83</td>\n",
       "      <td>90.20</td>\n",
       "      <td>577.9</td>\n",
       "      <td>0.1189</td>\n",
       "      <td>0.1645</td>\n",
       "      <td>0.09366</td>\n",
       "      <td>...</td>\n",
       "      <td>0.3682</td>\n",
       "      <td>0.2678</td>\n",
       "      <td>0.1556</td>\n",
       "      <td>0.3196</td>\n",
       "      <td>0.11510</td>\n",
       "      <td>4.0</td>\n",
       "      <td>10</td>\n",
       "      <td>0.5835</td>\n",
       "      <td>1.3770</td>\n",
       "      <td>78.0</td>\n",
       "    </tr>\n",
       "    <tr>\n",
       "      <td>13</td>\n",
       "      <td>847990</td>\n",
       "      <td>R</td>\n",
       "      <td>36</td>\n",
       "      <td>14.54</td>\n",
       "      <td>27.54</td>\n",
       "      <td>96.73</td>\n",
       "      <td>658.8</td>\n",
       "      <td>0.1139</td>\n",
       "      <td>0.1595</td>\n",
       "      <td>0.16390</td>\n",
       "      <td>...</td>\n",
       "      <td>0.6577</td>\n",
       "      <td>0.7026</td>\n",
       "      <td>0.1712</td>\n",
       "      <td>0.4218</td>\n",
       "      <td>0.13410</td>\n",
       "      <td>6.0</td>\n",
       "      <td>6</td>\n",
       "      <td>0.3700</td>\n",
       "      <td>1.0330</td>\n",
       "      <td>36.0</td>\n",
       "    </tr>\n",
       "    <tr>\n",
       "      <td>15</td>\n",
       "      <td>848620</td>\n",
       "      <td>R</td>\n",
       "      <td>10</td>\n",
       "      <td>16.13</td>\n",
       "      <td>20.68</td>\n",
       "      <td>108.10</td>\n",
       "      <td>798.8</td>\n",
       "      <td>0.1170</td>\n",
       "      <td>0.2022</td>\n",
       "      <td>0.17220</td>\n",
       "      <td>...</td>\n",
       "      <td>0.4233</td>\n",
       "      <td>0.4784</td>\n",
       "      <td>0.2073</td>\n",
       "      <td>0.3706</td>\n",
       "      <td>0.11420</td>\n",
       "      <td>3.0</td>\n",
       "      <td>1</td>\n",
       "      <td>0.5692</td>\n",
       "      <td>1.0730</td>\n",
       "      <td>12.0</td>\n",
       "    </tr>\n",
       "  </tbody>\n",
       "</table>\n",
       "<p>5 rows × 36 columns</p>\n",
       "</div>"
      ],
      "text/plain": [
       "    ID_number Outcome  Recurrence_time  radius_mean  texture_mean  \\\n",
       "4      843584       R               27        20.29         14.34   \n",
       "5      843786       R               77        12.75         15.29   \n",
       "7      844582       R               77        13.71         20.83   \n",
       "13     847990       R               36        14.54         27.54   \n",
       "15     848620       R               10        16.13         20.68   \n",
       "\n",
       "    perimeter_mean  area_mean  smoothness_mean  compactness_mean  \\\n",
       "4           135.10     1297.0           0.1003            0.1328   \n",
       "5            84.60      502.7           0.1189            0.1569   \n",
       "7            90.20      577.9           0.1189            0.1645   \n",
       "13           96.73      658.8           0.1139            0.1595   \n",
       "15          108.10      798.8           0.1170            0.2022   \n",
       "\n",
       "    concavity_mean  ...  area_worst  smoothness_worst  compactness_worst  \\\n",
       "4          0.19800  ...      0.2050            0.4000             0.1625   \n",
       "5          0.16640  ...      0.4196            0.5999             0.1709   \n",
       "7          0.09366  ...      0.3682            0.2678             0.1556   \n",
       "13         0.16390  ...      0.6577            0.7026             0.1712   \n",
       "15         0.17220  ...      0.4233            0.4784             0.2073   \n",
       "\n",
       "    concavity_worst  concave_points_worst  symmetry_worst  \\\n",
       "4            0.2364               0.07678             3.5   \n",
       "5            0.3485               0.11790             2.5   \n",
       "7            0.3196               0.11510             4.0   \n",
       "13           0.4218               0.13410             6.0   \n",
       "15           0.3706               0.11420             3.0   \n",
       "\n",
       "    fractal_dimension_worst  tumor_cm  lymph_nodes  rTime6  \n",
       "4                         0    0.7572       0.7813    24.0  \n",
       "5                         0    0.3877       0.7402    78.0  \n",
       "7                        10    0.5835       1.3770    78.0  \n",
       "13                        6    0.3700       1.0330    36.0  \n",
       "15                        1    0.5692       1.0730    12.0  \n",
       "\n",
       "[5 rows x 36 columns]"
      ]
     },
     "execution_count": 7,
     "metadata": {},
     "output_type": "execute_result"
    }
   ],
   "source": [
    "# create a rounded time column - to nearest 6 months\n",
    "df['rTime6'] = df['Recurrence_time'].div(6).round(0) * 6\n",
    "df.head()"
   ]
  },
  {
   "cell_type": "code",
   "execution_count": 8,
   "metadata": {},
   "outputs": [
    {
     "data": {
      "text/plain": [
       "12.0    12\n",
       "6.0      7\n",
       "36.0     6\n",
       "18.0     5\n",
       "0.0      4\n",
       "78.0     3\n",
       "24.0     3\n",
       "72.0     2\n",
       "42.0     2\n",
       "48.0     2\n",
       "60.0     1\n",
       "Name: rTime6, dtype: int64"
      ]
     },
     "execution_count": 8,
     "metadata": {},
     "output_type": "execute_result"
    }
   ],
   "source": [
    "# how many in each rounded recurrence time group? - less than 2 will make SMOTE difficult\n",
    "df['rTime6'].value_counts()"
   ]
  },
  {
   "cell_type": "code",
   "execution_count": 9,
   "metadata": {},
   "outputs": [
    {
     "data": {
      "text/html": [
       "<div>\n",
       "<style scoped>\n",
       "    .dataframe tbody tr th:only-of-type {\n",
       "        vertical-align: middle;\n",
       "    }\n",
       "\n",
       "    .dataframe tbody tr th {\n",
       "        vertical-align: top;\n",
       "    }\n",
       "\n",
       "    .dataframe thead th {\n",
       "        text-align: right;\n",
       "    }\n",
       "</style>\n",
       "<table border=\"1\" class=\"dataframe\">\n",
       "  <thead>\n",
       "    <tr style=\"text-align: right;\">\n",
       "      <th></th>\n",
       "      <th>ID_number</th>\n",
       "      <th>Outcome</th>\n",
       "      <th>Recurrence_time</th>\n",
       "      <th>radius_mean</th>\n",
       "      <th>texture_mean</th>\n",
       "      <th>perimeter_mean</th>\n",
       "      <th>area_mean</th>\n",
       "      <th>smoothness_mean</th>\n",
       "      <th>compactness_mean</th>\n",
       "      <th>concavity_mean</th>\n",
       "      <th>concave_points_mean</th>\n",
       "      <th>symmetry_mean</th>\n",
       "      <th>fractal_dimension_mean</th>\n",
       "      <th>tumor_cm</th>\n",
       "      <th>lymph_nodes</th>\n",
       "      <th>rTime6</th>\n",
       "    </tr>\n",
       "  </thead>\n",
       "  <tbody>\n",
       "    <tr>\n",
       "      <td>4</td>\n",
       "      <td>843584</td>\n",
       "      <td>R</td>\n",
       "      <td>27</td>\n",
       "      <td>20.29</td>\n",
       "      <td>14.34</td>\n",
       "      <td>135.10</td>\n",
       "      <td>1297.0</td>\n",
       "      <td>0.1003</td>\n",
       "      <td>0.1328</td>\n",
       "      <td>0.19800</td>\n",
       "      <td>0.10430</td>\n",
       "      <td>0.1809</td>\n",
       "      <td>0.05883</td>\n",
       "      <td>0.7572</td>\n",
       "      <td>0.7813</td>\n",
       "      <td>24.0</td>\n",
       "    </tr>\n",
       "    <tr>\n",
       "      <td>5</td>\n",
       "      <td>843786</td>\n",
       "      <td>R</td>\n",
       "      <td>77</td>\n",
       "      <td>12.75</td>\n",
       "      <td>15.29</td>\n",
       "      <td>84.60</td>\n",
       "      <td>502.7</td>\n",
       "      <td>0.1189</td>\n",
       "      <td>0.1569</td>\n",
       "      <td>0.16640</td>\n",
       "      <td>0.07666</td>\n",
       "      <td>0.1995</td>\n",
       "      <td>0.07164</td>\n",
       "      <td>0.3877</td>\n",
       "      <td>0.7402</td>\n",
       "      <td>78.0</td>\n",
       "    </tr>\n",
       "    <tr>\n",
       "      <td>7</td>\n",
       "      <td>844582</td>\n",
       "      <td>R</td>\n",
       "      <td>77</td>\n",
       "      <td>13.71</td>\n",
       "      <td>20.83</td>\n",
       "      <td>90.20</td>\n",
       "      <td>577.9</td>\n",
       "      <td>0.1189</td>\n",
       "      <td>0.1645</td>\n",
       "      <td>0.09366</td>\n",
       "      <td>0.05985</td>\n",
       "      <td>0.2196</td>\n",
       "      <td>0.07451</td>\n",
       "      <td>0.5835</td>\n",
       "      <td>1.3770</td>\n",
       "      <td>78.0</td>\n",
       "    </tr>\n",
       "    <tr>\n",
       "      <td>13</td>\n",
       "      <td>847990</td>\n",
       "      <td>R</td>\n",
       "      <td>36</td>\n",
       "      <td>14.54</td>\n",
       "      <td>27.54</td>\n",
       "      <td>96.73</td>\n",
       "      <td>658.8</td>\n",
       "      <td>0.1139</td>\n",
       "      <td>0.1595</td>\n",
       "      <td>0.16390</td>\n",
       "      <td>0.07364</td>\n",
       "      <td>0.2303</td>\n",
       "      <td>0.07077</td>\n",
       "      <td>0.3700</td>\n",
       "      <td>1.0330</td>\n",
       "      <td>36.0</td>\n",
       "    </tr>\n",
       "    <tr>\n",
       "      <td>15</td>\n",
       "      <td>848620</td>\n",
       "      <td>R</td>\n",
       "      <td>10</td>\n",
       "      <td>16.13</td>\n",
       "      <td>20.68</td>\n",
       "      <td>108.10</td>\n",
       "      <td>798.8</td>\n",
       "      <td>0.1170</td>\n",
       "      <td>0.2022</td>\n",
       "      <td>0.17220</td>\n",
       "      <td>0.10280</td>\n",
       "      <td>0.2164</td>\n",
       "      <td>0.07356</td>\n",
       "      <td>0.5692</td>\n",
       "      <td>1.0730</td>\n",
       "      <td>12.0</td>\n",
       "    </tr>\n",
       "  </tbody>\n",
       "</table>\n",
       "</div>"
      ],
      "text/plain": [
       "    ID_number Outcome  Recurrence_time  radius_mean  texture_mean  \\\n",
       "4      843584       R               27        20.29         14.34   \n",
       "5      843786       R               77        12.75         15.29   \n",
       "7      844582       R               77        13.71         20.83   \n",
       "13     847990       R               36        14.54         27.54   \n",
       "15     848620       R               10        16.13         20.68   \n",
       "\n",
       "    perimeter_mean  area_mean  smoothness_mean  compactness_mean  \\\n",
       "4           135.10     1297.0           0.1003            0.1328   \n",
       "5            84.60      502.7           0.1189            0.1569   \n",
       "7            90.20      577.9           0.1189            0.1645   \n",
       "13           96.73      658.8           0.1139            0.1595   \n",
       "15          108.10      798.8           0.1170            0.2022   \n",
       "\n",
       "    concavity_mean  concave_points_mean  symmetry_mean  \\\n",
       "4          0.19800              0.10430         0.1809   \n",
       "5          0.16640              0.07666         0.1995   \n",
       "7          0.09366              0.05985         0.2196   \n",
       "13         0.16390              0.07364         0.2303   \n",
       "15         0.17220              0.10280         0.2164   \n",
       "\n",
       "    fractal_dimension_mean  tumor_cm  lymph_nodes  rTime6  \n",
       "4                  0.05883    0.7572       0.7813    24.0  \n",
       "5                  0.07164    0.3877       0.7402    78.0  \n",
       "7                  0.07451    0.5835       1.3770    78.0  \n",
       "13                 0.07077    0.3700       1.0330    36.0  \n",
       "15                 0.07356    0.5692       1.0730    12.0  "
      ]
     },
     "execution_count": 9,
     "metadata": {},
     "output_type": "execute_result"
    }
   ],
   "source": [
    "# for simplicity, just keep the mean labelled values\n",
    "df = df.drop(['radius_se', 'texture_se', 'perimeter_se', 'area_se', 'smoothness_se', 'compactness_se', 'concavity_se',\n",
    "              'concave_points_se', 'symmetry_se', 'fractal_dimension_se', 'radius_worst', 'texture_worst',\n",
    "              'perimeter_worst', 'area_worst', 'smoothness_worst', 'compactness_worst', 'concavity_worst',\n",
    "              'concave_points_worst', 'symmetry_worst', 'fractal_dimension_worst'], axis=1)\n",
    "df.head()"
   ]
  },
  {
   "cell_type": "code",
   "execution_count": 10,
   "metadata": {},
   "outputs": [],
   "source": [
    "# split data into input and output columns\n",
    "data = df.values\n",
    "X = data[:, 3:-2]"
   ]
  },
  {
   "cell_type": "code",
   "execution_count": 11,
   "metadata": {},
   "outputs": [],
   "source": [
    "y = data[:,-1]"
   ]
  },
  {
   "cell_type": "code",
   "execution_count": 12,
   "metadata": {},
   "outputs": [],
   "source": [
    "X_train, X_test, y_train, y_test = train_test_split(X, y, test_size=0.2)"
   ]
  },
  {
   "cell_type": "markdown",
   "metadata": {},
   "source": [
    "Simple OLS Regression, in-sample and out-of-sample testing"
   ]
  },
  {
   "cell_type": "code",
   "execution_count": 13,
   "metadata": {},
   "outputs": [
    {
     "name": "stdout",
     "output_type": "stream",
     "text": [
      "r2 = 0.3875002475867574\n"
     ]
    },
    {
     "data": {
      "text/plain": [
       "<matplotlib.legend.Legend at 0x1dba765cc08>"
      ]
     },
     "execution_count": 13,
     "metadata": {},
     "output_type": "execute_result"
    },
    {
     "data": {
      "image/png": "[encoded data removed]",
      "text/plain": [
       "<Figure size 432x288 with 1 Axes>"
      ]
     },
     "metadata": {
      "needs_background": "light"
     },
     "output_type": "display_data"
    }
   ],
   "source": [
    "lr = LinearRegression().fit(X,y)\n",
    "r2 = lr.score(X,y)\n",
    "print('r2 =',r2)\n",
    "\n",
    "lr_pred = lr.predict(X)\n",
    "\n",
    "plt.scatter(range(len(df)), df['Recurrence_time'], label='data')\n",
    "plt.scatter(range(len(df)), lr_pred, label = 'lr pred')\n",
    "plt.legend(loc='best')"
   ]
  },
  {
   "cell_type": "code",
   "execution_count": 14,
   "metadata": {},
   "outputs": [
    {
     "data": {
      "text/plain": [
       "<matplotlib.legend.Legend at 0x1dba7714e88>"
      ]
     },
     "execution_count": 14,
     "metadata": {},
     "output_type": "execute_result"
    },
    {
     "data": {
      "image/png": "[encoded data removed]",
      "text/plain": [
       "<Figure size 432x288 with 1 Axes>"
      ]
     },
     "metadata": {
      "needs_background": "light"
     },
     "output_type": "display_data"
    }
   ],
   "source": [
    "lr.fit(X_train, y_train)\n",
    "lr_pred=lr.predict(X_test)\n",
    "\n",
    "plt.scatter(range(len(X_test)), y_test, label='data')\n",
    "plt.scatter(range(len(X_test)), lr_pred, label = 'lr pred')\n",
    "plt.legend(loc='best')"
   ]
  },
  {
   "cell_type": "markdown",
   "metadata": {},
   "source": [
    "XGBoost Regression in-sample and out-of-sample testing"
   ]
  },
  {
   "cell_type": "code",
   "execution_count": 15,
   "metadata": {},
   "outputs": [
    {
     "name": "stdout",
     "output_type": "stream",
     "text": [
      "Mean MAE: 17.179 (6.519)\n"
     ]
    },
    {
     "data": {
      "text/plain": [
       "<matplotlib.legend.Legend at 0x1dba77d4e88>"
      ]
     },
     "execution_count": 15,
     "metadata": {},
     "output_type": "execute_result"
    },
    {
     "data": {
      "image/png": "[encoded data removed]",
      "text/plain": [
       "<Figure size 432x288 with 1 Axes>"
      ]
     },
     "metadata": {
      "needs_background": "light"
     },
     "output_type": "display_data"
    }
   ],
   "source": [
    "# create an xgboost regression model\n",
    "model = xgb.XGBRegressor(n_estimators=1000, max_depth=12, eta=0.1, subsample=0.7, colsample_bytree=0.8)\n",
    "\n",
    "# define model evaluation method\n",
    "cv = RepeatedKFold(n_splits=10, n_repeats=3, random_state=1)\n",
    "# evaluate model\n",
    "scores = cross_val_score(model, X, y, scoring='neg_mean_absolute_error', cv=cv, n_jobs=-1)\n",
    "\n",
    "# display scores - force scores to be positive to get mean error\n",
    "#print('Scores: ', scores)\n",
    "scores = np.absolute(scores)\n",
    "print('Mean MAE: %.3f (%.3f)' % (scores.mean(), scores.std()) )\n",
    "\n",
    "model.fit(X,y)\n",
    "xgb_pred = model.predict(X)\n",
    "\n",
    "plt.scatter(range(len(df)), df['Recurrence_time'], label='data')\n",
    "plt.scatter(range(len(df)), xgb_pred, label='xgb pred')\n",
    "plt.legend(loc='best')"
   ]
  },
  {
   "cell_type": "code",
   "execution_count": 16,
   "metadata": {},
   "outputs": [
    {
     "data": {
      "text/plain": [
       "<matplotlib.legend.Legend at 0x1dba783cd48>"
      ]
     },
     "execution_count": 16,
     "metadata": {},
     "output_type": "execute_result"
    },
    {
     "data": {
      "image/png": "[encoded data removed]",
      "text/plain": [
       "<Figure size 432x288 with 1 Axes>"
      ]
     },
     "metadata": {
      "needs_background": "light"
     },
     "output_type": "display_data"
    }
   ],
   "source": [
    "# retrain the model on 80% of the data - test on 20%\n",
    "model.fit(X_train, y_train)\n",
    "xgb_pred = model.predict(X_test)\n",
    "\n",
    "plt.scatter(range(len(X_test)), y_test, label='data')\n",
    "plt.scatter(range(len(X_test)), xgb_pred, label = 'xgb pred')\n",
    "plt.legend(loc='best')\n"
   ]
  },
  {
   "cell_type": "markdown",
   "metadata": {},
   "source": [
    "Refactor the recurrence times based on clustering the tumour data"
   ]
  },
  {
   "cell_type": "code",
   "execution_count": 17,
   "metadata": {},
   "outputs": [],
   "source": [
    "# reset the dataset\n",
    "X = df[['radius_mean', 'texture_mean', 'perimeter_mean', 'area_mean', 'smoothness_mean', 'compactness_mean', \n",
    "        'concavity_mean', 'concave_points_mean', 'symmetry_mean', 'fractal_dimension_mean', 'tumor_cm', \n",
    "        'lymph_nodes']]\n",
    "y = df[['rTime6']]"
   ]
  },
  {
   "cell_type": "code",
   "execution_count": 18,
   "metadata": {},
   "outputs": [
    {
     "data": {
      "image/png": "[encoded data removed]",
      "text/plain": [
       "<Figure size 432x288 with 1 Axes>"
      ]
     },
     "metadata": {
      "needs_background": "light"
     },
     "output_type": "display_data"
    }
   ],
   "source": [
    "# k-means on the data\n",
    "wcss = []\n",
    "for i in range(1, 11):\n",
    "    kmeans = KMeans(n_clusters=i, init='k-means++', max_iter=300, n_init=10, random_state=0)\n",
    "    kmeans.fit(X)\n",
    "    wcss.append(kmeans.inertia_)\n",
    "    \n",
    "plt.plot(range(1, 11), wcss)\n",
    "plt.title('Elbow Method')\n",
    "plt.xlabel('Number of clusters')\n",
    "plt.ylabel('WCSS')\n",
    "plt.show()\n"
   ]
  },
  {
   "cell_type": "code",
   "execution_count": 19,
   "metadata": {},
   "outputs": [
    {
     "data": {
      "text/plain": [
       "KMeans(algorithm='auto', copy_x=True, init='k-means++', max_iter=300,\n",
       "       n_clusters=4, n_init=10, n_jobs=None, precompute_distances='auto',\n",
       "       random_state=0, tol=0.0001, verbose=0)"
      ]
     },
     "execution_count": 19,
     "metadata": {},
     "output_type": "execute_result"
    }
   ],
   "source": [
    "# re-run with k=4\n",
    "kmeans = KMeans(n_clusters=4, init='k-means++', max_iter=300, n_init=10, random_state=0)\n",
    "kmeans.fit(X)"
   ]
  },
  {
   "cell_type": "code",
   "execution_count": 20,
   "metadata": {},
   "outputs": [
    {
     "data": {
      "text/plain": [
       "array([3, 2, 2, 2, 2, 3, 1, 1, 2, 1, 2, 2, 2, 1, 3, 1, 1, 3, 1, 3, 0, 2,\n",
       "       2, 3, 3, 1, 1, 3, 3, 2, 0, 3, 0, 2, 3, 2, 3, 2, 1, 3, 3, 1, 3, 0,\n",
       "       1, 1, 3])"
      ]
     },
     "execution_count": 20,
     "metadata": {},
     "output_type": "execute_result"
    }
   ],
   "source": [
    "kmeans.labels_"
   ]
  },
  {
   "cell_type": "code",
   "execution_count": 21,
   "metadata": {},
   "outputs": [
    {
     "data": {
      "text/html": [
       "<div>\n",
       "<style scoped>\n",
       "    .dataframe tbody tr th:only-of-type {\n",
       "        vertical-align: middle;\n",
       "    }\n",
       "\n",
       "    .dataframe tbody tr th {\n",
       "        vertical-align: top;\n",
       "    }\n",
       "\n",
       "    .dataframe thead th {\n",
       "        text-align: right;\n",
       "    }\n",
       "</style>\n",
       "<table border=\"1\" class=\"dataframe\">\n",
       "  <thead>\n",
       "    <tr style=\"text-align: right;\">\n",
       "      <th></th>\n",
       "      <th>ID_number</th>\n",
       "      <th>Outcome</th>\n",
       "      <th>Recurrence_time</th>\n",
       "      <th>radius_mean</th>\n",
       "      <th>texture_mean</th>\n",
       "      <th>perimeter_mean</th>\n",
       "      <th>area_mean</th>\n",
       "      <th>smoothness_mean</th>\n",
       "      <th>compactness_mean</th>\n",
       "      <th>concavity_mean</th>\n",
       "      <th>concave_points_mean</th>\n",
       "      <th>symmetry_mean</th>\n",
       "      <th>fractal_dimension_mean</th>\n",
       "      <th>tumor_cm</th>\n",
       "      <th>lymph_nodes</th>\n",
       "      <th>rTime6</th>\n",
       "      <th>cluster</th>\n",
       "    </tr>\n",
       "  </thead>\n",
       "  <tbody>\n",
       "    <tr>\n",
       "      <td>4</td>\n",
       "      <td>843584</td>\n",
       "      <td>R</td>\n",
       "      <td>27</td>\n",
       "      <td>20.29</td>\n",
       "      <td>14.34</td>\n",
       "      <td>135.10</td>\n",
       "      <td>1297.0</td>\n",
       "      <td>0.1003</td>\n",
       "      <td>0.1328</td>\n",
       "      <td>0.19800</td>\n",
       "      <td>0.10430</td>\n",
       "      <td>0.1809</td>\n",
       "      <td>0.05883</td>\n",
       "      <td>0.7572</td>\n",
       "      <td>0.7813</td>\n",
       "      <td>24.0</td>\n",
       "      <td>3</td>\n",
       "    </tr>\n",
       "    <tr>\n",
       "      <td>5</td>\n",
       "      <td>843786</td>\n",
       "      <td>R</td>\n",
       "      <td>77</td>\n",
       "      <td>12.75</td>\n",
       "      <td>15.29</td>\n",
       "      <td>84.60</td>\n",
       "      <td>502.7</td>\n",
       "      <td>0.1189</td>\n",
       "      <td>0.1569</td>\n",
       "      <td>0.16640</td>\n",
       "      <td>0.07666</td>\n",
       "      <td>0.1995</td>\n",
       "      <td>0.07164</td>\n",
       "      <td>0.3877</td>\n",
       "      <td>0.7402</td>\n",
       "      <td>78.0</td>\n",
       "      <td>2</td>\n",
       "    </tr>\n",
       "    <tr>\n",
       "      <td>7</td>\n",
       "      <td>844582</td>\n",
       "      <td>R</td>\n",
       "      <td>77</td>\n",
       "      <td>13.71</td>\n",
       "      <td>20.83</td>\n",
       "      <td>90.20</td>\n",
       "      <td>577.9</td>\n",
       "      <td>0.1189</td>\n",
       "      <td>0.1645</td>\n",
       "      <td>0.09366</td>\n",
       "      <td>0.05985</td>\n",
       "      <td>0.2196</td>\n",
       "      <td>0.07451</td>\n",
       "      <td>0.5835</td>\n",
       "      <td>1.3770</td>\n",
       "      <td>78.0</td>\n",
       "      <td>2</td>\n",
       "    </tr>\n",
       "    <tr>\n",
       "      <td>13</td>\n",
       "      <td>847990</td>\n",
       "      <td>R</td>\n",
       "      <td>36</td>\n",
       "      <td>14.54</td>\n",
       "      <td>27.54</td>\n",
       "      <td>96.73</td>\n",
       "      <td>658.8</td>\n",
       "      <td>0.1139</td>\n",
       "      <td>0.1595</td>\n",
       "      <td>0.16390</td>\n",
       "      <td>0.07364</td>\n",
       "      <td>0.2303</td>\n",
       "      <td>0.07077</td>\n",
       "      <td>0.3700</td>\n",
       "      <td>1.0330</td>\n",
       "      <td>36.0</td>\n",
       "      <td>2</td>\n",
       "    </tr>\n",
       "    <tr>\n",
       "      <td>15</td>\n",
       "      <td>848620</td>\n",
       "      <td>R</td>\n",
       "      <td>10</td>\n",
       "      <td>16.13</td>\n",
       "      <td>20.68</td>\n",
       "      <td>108.10</td>\n",
       "      <td>798.8</td>\n",
       "      <td>0.1170</td>\n",
       "      <td>0.2022</td>\n",
       "      <td>0.17220</td>\n",
       "      <td>0.10280</td>\n",
       "      <td>0.2164</td>\n",
       "      <td>0.07356</td>\n",
       "      <td>0.5692</td>\n",
       "      <td>1.0730</td>\n",
       "      <td>12.0</td>\n",
       "      <td>2</td>\n",
       "    </tr>\n",
       "  </tbody>\n",
       "</table>\n",
       "</div>"
      ],
      "text/plain": [
       "    ID_number Outcome  Recurrence_time  radius_mean  texture_mean  \\\n",
       "4      843584       R               27        20.29         14.34   \n",
       "5      843786       R               77        12.75         15.29   \n",
       "7      844582       R               77        13.71         20.83   \n",
       "13     847990       R               36        14.54         27.54   \n",
       "15     848620       R               10        16.13         20.68   \n",
       "\n",
       "    perimeter_mean  area_mean  smoothness_mean  compactness_mean  \\\n",
       "4           135.10     1297.0           0.1003            0.1328   \n",
       "5            84.60      502.7           0.1189            0.1569   \n",
       "7            90.20      577.9           0.1189            0.1645   \n",
       "13           96.73      658.8           0.1139            0.1595   \n",
       "15          108.10      798.8           0.1170            0.2022   \n",
       "\n",
       "    concavity_mean  concave_points_mean  symmetry_mean  \\\n",
       "4          0.19800              0.10430         0.1809   \n",
       "5          0.16640              0.07666         0.1995   \n",
       "7          0.09366              0.05985         0.2196   \n",
       "13         0.16390              0.07364         0.2303   \n",
       "15         0.17220              0.10280         0.2164   \n",
       "\n",
       "    fractal_dimension_mean  tumor_cm  lymph_nodes  rTime6  cluster  \n",
       "4                  0.05883    0.7572       0.7813    24.0        3  \n",
       "5                  0.07164    0.3877       0.7402    78.0        2  \n",
       "7                  0.07451    0.5835       1.3770    78.0        2  \n",
       "13                 0.07077    0.3700       1.0330    36.0        2  \n",
       "15                 0.07356    0.5692       1.0730    12.0        2  "
      ]
     },
     "execution_count": 21,
     "metadata": {},
     "output_type": "execute_result"
    }
   ],
   "source": [
    "df['cluster'] = kmeans.labels_\n",
    "df.head()"
   ]
  },
  {
   "cell_type": "code",
   "execution_count": 22,
   "metadata": {},
   "outputs": [],
   "source": [
    "r0 = df[df['cluster'] == 0]\n",
    "r0m = np.round(np.mean(r0['Recurrence_time']),0)\n",
    "r1 = df[df['cluster'] == 1]\n",
    "r1m = np.round(np.mean(r1['Recurrence_time']),0)\n",
    "r2 = df[df['cluster'] == 2]\n",
    "r2m = np.round(np.mean(r2['Recurrence_time']),0)\n",
    "r3 = df[df['cluster'] == 3]\n",
    "r3m = np.round(np.mean(r3['Recurrence_time']),0)"
   ]
  },
  {
   "cell_type": "code",
   "execution_count": 23,
   "metadata": {},
   "outputs": [
    {
     "name": "stdout",
     "output_type": "stream",
     "text": [
      "cluster 0 - mean recurrence time = 13.0\n",
      "cluster 1 - mean recurrence time = 24.0\n",
      "cluster 2 - mean recurrence time = 40.0\n",
      "cluster 3 - mean recurrence time = 16.0\n"
     ]
    }
   ],
   "source": [
    "print('cluster 0 - mean recurrence time =', r0m)\n",
    "print('cluster 1 - mean recurrence time =', r1m)\n",
    "print('cluster 2 - mean recurrence time =', r2m)\n",
    "print('cluster 3 - mean recurrence time =', r3m)"
   ]
  },
  {
   "cell_type": "code",
   "execution_count": 24,
   "metadata": {},
   "outputs": [
    {
     "data": {
      "text/html": [
       "<div>\n",
       "<style scoped>\n",
       "    .dataframe tbody tr th:only-of-type {\n",
       "        vertical-align: middle;\n",
       "    }\n",
       "\n",
       "    .dataframe tbody tr th {\n",
       "        vertical-align: top;\n",
       "    }\n",
       "\n",
       "    .dataframe thead th {\n",
       "        text-align: right;\n",
       "    }\n",
       "</style>\n",
       "<table border=\"1\" class=\"dataframe\">\n",
       "  <thead>\n",
       "    <tr style=\"text-align: right;\">\n",
       "      <th></th>\n",
       "      <th>ID_number</th>\n",
       "      <th>Outcome</th>\n",
       "      <th>Recurrence_time</th>\n",
       "      <th>radius_mean</th>\n",
       "      <th>texture_mean</th>\n",
       "      <th>perimeter_mean</th>\n",
       "      <th>area_mean</th>\n",
       "      <th>smoothness_mean</th>\n",
       "      <th>compactness_mean</th>\n",
       "      <th>concavity_mean</th>\n",
       "      <th>concave_points_mean</th>\n",
       "      <th>symmetry_mean</th>\n",
       "      <th>fractal_dimension_mean</th>\n",
       "      <th>tumor_cm</th>\n",
       "      <th>lymph_nodes</th>\n",
       "      <th>rTime6</th>\n",
       "      <th>cluster</th>\n",
       "      <th>rTimeC</th>\n",
       "    </tr>\n",
       "  </thead>\n",
       "  <tbody>\n",
       "    <tr>\n",
       "      <td>4</td>\n",
       "      <td>843584</td>\n",
       "      <td>R</td>\n",
       "      <td>27</td>\n",
       "      <td>20.29</td>\n",
       "      <td>14.34</td>\n",
       "      <td>135.10</td>\n",
       "      <td>1297.0</td>\n",
       "      <td>0.10030</td>\n",
       "      <td>0.13280</td>\n",
       "      <td>0.19800</td>\n",
       "      <td>0.10430</td>\n",
       "      <td>0.1809</td>\n",
       "      <td>0.05883</td>\n",
       "      <td>0.7572</td>\n",
       "      <td>0.7813</td>\n",
       "      <td>24.0</td>\n",
       "      <td>3</td>\n",
       "      <td>16.0</td>\n",
       "    </tr>\n",
       "    <tr>\n",
       "      <td>5</td>\n",
       "      <td>843786</td>\n",
       "      <td>R</td>\n",
       "      <td>77</td>\n",
       "      <td>12.75</td>\n",
       "      <td>15.29</td>\n",
       "      <td>84.60</td>\n",
       "      <td>502.7</td>\n",
       "      <td>0.11890</td>\n",
       "      <td>0.15690</td>\n",
       "      <td>0.16640</td>\n",
       "      <td>0.07666</td>\n",
       "      <td>0.1995</td>\n",
       "      <td>0.07164</td>\n",
       "      <td>0.3877</td>\n",
       "      <td>0.7402</td>\n",
       "      <td>78.0</td>\n",
       "      <td>2</td>\n",
       "      <td>40.0</td>\n",
       "    </tr>\n",
       "    <tr>\n",
       "      <td>7</td>\n",
       "      <td>844582</td>\n",
       "      <td>R</td>\n",
       "      <td>77</td>\n",
       "      <td>13.71</td>\n",
       "      <td>20.83</td>\n",
       "      <td>90.20</td>\n",
       "      <td>577.9</td>\n",
       "      <td>0.11890</td>\n",
       "      <td>0.16450</td>\n",
       "      <td>0.09366</td>\n",
       "      <td>0.05985</td>\n",
       "      <td>0.2196</td>\n",
       "      <td>0.07451</td>\n",
       "      <td>0.5835</td>\n",
       "      <td>1.3770</td>\n",
       "      <td>78.0</td>\n",
       "      <td>2</td>\n",
       "      <td>40.0</td>\n",
       "    </tr>\n",
       "    <tr>\n",
       "      <td>13</td>\n",
       "      <td>847990</td>\n",
       "      <td>R</td>\n",
       "      <td>36</td>\n",
       "      <td>14.54</td>\n",
       "      <td>27.54</td>\n",
       "      <td>96.73</td>\n",
       "      <td>658.8</td>\n",
       "      <td>0.11390</td>\n",
       "      <td>0.15950</td>\n",
       "      <td>0.16390</td>\n",
       "      <td>0.07364</td>\n",
       "      <td>0.2303</td>\n",
       "      <td>0.07077</td>\n",
       "      <td>0.3700</td>\n",
       "      <td>1.0330</td>\n",
       "      <td>36.0</td>\n",
       "      <td>2</td>\n",
       "      <td>40.0</td>\n",
       "    </tr>\n",
       "    <tr>\n",
       "      <td>15</td>\n",
       "      <td>848620</td>\n",
       "      <td>R</td>\n",
       "      <td>10</td>\n",
       "      <td>16.13</td>\n",
       "      <td>20.68</td>\n",
       "      <td>108.10</td>\n",
       "      <td>798.8</td>\n",
       "      <td>0.11700</td>\n",
       "      <td>0.20220</td>\n",
       "      <td>0.17220</td>\n",
       "      <td>0.10280</td>\n",
       "      <td>0.2164</td>\n",
       "      <td>0.07356</td>\n",
       "      <td>0.5692</td>\n",
       "      <td>1.0730</td>\n",
       "      <td>12.0</td>\n",
       "      <td>2</td>\n",
       "      <td>40.0</td>\n",
       "    </tr>\n",
       "    <tr>\n",
       "      <td>17</td>\n",
       "      <td>851509</td>\n",
       "      <td>R</td>\n",
       "      <td>10</td>\n",
       "      <td>21.16</td>\n",
       "      <td>23.04</td>\n",
       "      <td>137.20</td>\n",
       "      <td>1404.0</td>\n",
       "      <td>0.09428</td>\n",
       "      <td>0.10220</td>\n",
       "      <td>0.10970</td>\n",
       "      <td>0.08632</td>\n",
       "      <td>0.1769</td>\n",
       "      <td>0.05278</td>\n",
       "      <td>0.6917</td>\n",
       "      <td>1.1270</td>\n",
       "      <td>12.0</td>\n",
       "      <td>3</td>\n",
       "      <td>16.0</td>\n",
       "    </tr>\n",
       "    <tr>\n",
       "      <td>34</td>\n",
       "      <td>855625</td>\n",
       "      <td>R</td>\n",
       "      <td>9</td>\n",
       "      <td>19.07</td>\n",
       "      <td>24.81</td>\n",
       "      <td>128.30</td>\n",
       "      <td>1104.0</td>\n",
       "      <td>0.09081</td>\n",
       "      <td>0.21900</td>\n",
       "      <td>0.21070</td>\n",
       "      <td>0.09961</td>\n",
       "      <td>0.2310</td>\n",
       "      <td>0.06343</td>\n",
       "      <td>0.9811</td>\n",
       "      <td>1.6660</td>\n",
       "      <td>12.0</td>\n",
       "      <td>1</td>\n",
       "      <td>24.0</td>\n",
       "    </tr>\n",
       "    <tr>\n",
       "      <td>37</td>\n",
       "      <td>857010</td>\n",
       "      <td>R</td>\n",
       "      <td>8</td>\n",
       "      <td>18.65</td>\n",
       "      <td>17.60</td>\n",
       "      <td>123.70</td>\n",
       "      <td>1076.0</td>\n",
       "      <td>0.10990</td>\n",
       "      <td>0.16860</td>\n",
       "      <td>0.19740</td>\n",
       "      <td>0.10090</td>\n",
       "      <td>0.1907</td>\n",
       "      <td>0.06049</td>\n",
       "      <td>0.6289</td>\n",
       "      <td>0.6633</td>\n",
       "      <td>6.0</td>\n",
       "      <td>1</td>\n",
       "      <td>24.0</td>\n",
       "    </tr>\n",
       "    <tr>\n",
       "      <td>39</td>\n",
       "      <td>857438</td>\n",
       "      <td>R</td>\n",
       "      <td>48</td>\n",
       "      <td>15.10</td>\n",
       "      <td>22.02</td>\n",
       "      <td>97.26</td>\n",
       "      <td>712.8</td>\n",
       "      <td>0.09056</td>\n",
       "      <td>0.07081</td>\n",
       "      <td>0.05253</td>\n",
       "      <td>0.03334</td>\n",
       "      <td>0.1616</td>\n",
       "      <td>0.05684</td>\n",
       "      <td>0.3105</td>\n",
       "      <td>0.8339</td>\n",
       "      <td>48.0</td>\n",
       "      <td>2</td>\n",
       "      <td>40.0</td>\n",
       "    </tr>\n",
       "    <tr>\n",
       "      <td>40</td>\n",
       "      <td>857637</td>\n",
       "      <td>R</td>\n",
       "      <td>11</td>\n",
       "      <td>19.21</td>\n",
       "      <td>18.57</td>\n",
       "      <td>125.50</td>\n",
       "      <td>1152.0</td>\n",
       "      <td>0.10530</td>\n",
       "      <td>0.12670</td>\n",
       "      <td>0.13230</td>\n",
       "      <td>0.08994</td>\n",
       "      <td>0.1917</td>\n",
       "      <td>0.05961</td>\n",
       "      <td>0.7275</td>\n",
       "      <td>1.1930</td>\n",
       "      <td>12.0</td>\n",
       "      <td>1</td>\n",
       "      <td>24.0</td>\n",
       "    </tr>\n",
       "  </tbody>\n",
       "</table>\n",
       "</div>"
      ],
      "text/plain": [
       "    ID_number Outcome  Recurrence_time  radius_mean  texture_mean  \\\n",
       "4      843584       R               27        20.29         14.34   \n",
       "5      843786       R               77        12.75         15.29   \n",
       "7      844582       R               77        13.71         20.83   \n",
       "13     847990       R               36        14.54         27.54   \n",
       "15     848620       R               10        16.13         20.68   \n",
       "17     851509       R               10        21.16         23.04   \n",
       "34     855625       R                9        19.07         24.81   \n",
       "37     857010       R                8        18.65         17.60   \n",
       "39     857438       R               48        15.10         22.02   \n",
       "40     857637       R               11        19.21         18.57   \n",
       "\n",
       "    perimeter_mean  area_mean  smoothness_mean  compactness_mean  \\\n",
       "4           135.10     1297.0          0.10030           0.13280   \n",
       "5            84.60      502.7          0.11890           0.15690   \n",
       "7            90.20      577.9          0.11890           0.16450   \n",
       "13           96.73      658.8          0.11390           0.15950   \n",
       "15          108.10      798.8          0.11700           0.20220   \n",
       "17          137.20     1404.0          0.09428           0.10220   \n",
       "34          128.30     1104.0          0.09081           0.21900   \n",
       "37          123.70     1076.0          0.10990           0.16860   \n",
       "39           97.26      712.8          0.09056           0.07081   \n",
       "40          125.50     1152.0          0.10530           0.12670   \n",
       "\n",
       "    concavity_mean  concave_points_mean  symmetry_mean  \\\n",
       "4          0.19800              0.10430         0.1809   \n",
       "5          0.16640              0.07666         0.1995   \n",
       "7          0.09366              0.05985         0.2196   \n",
       "13         0.16390              0.07364         0.2303   \n",
       "15         0.17220              0.10280         0.2164   \n",
       "17         0.10970              0.08632         0.1769   \n",
       "34         0.21070              0.09961         0.2310   \n",
       "37         0.19740              0.10090         0.1907   \n",
       "39         0.05253              0.03334         0.1616   \n",
       "40         0.13230              0.08994         0.1917   \n",
       "\n",
       "    fractal_dimension_mean  tumor_cm  lymph_nodes  rTime6  cluster  rTimeC  \n",
       "4                  0.05883    0.7572       0.7813    24.0        3    16.0  \n",
       "5                  0.07164    0.3877       0.7402    78.0        2    40.0  \n",
       "7                  0.07451    0.5835       1.3770    78.0        2    40.0  \n",
       "13                 0.07077    0.3700       1.0330    36.0        2    40.0  \n",
       "15                 0.07356    0.5692       1.0730    12.0        2    40.0  \n",
       "17                 0.05278    0.6917       1.1270    12.0        3    16.0  \n",
       "34                 0.06343    0.9811       1.6660    12.0        1    24.0  \n",
       "37                 0.06049    0.6289       0.6633     6.0        1    24.0  \n",
       "39                 0.05684    0.3105       0.8339    48.0        2    40.0  \n",
       "40                 0.05961    0.7275       1.1930    12.0        1    24.0  "
      ]
     },
     "execution_count": 24,
     "metadata": {},
     "output_type": "execute_result"
    }
   ],
   "source": [
    "df['rTimeC'] = r0m\n",
    "for i in range(len(df)):\n",
    "    if df.iloc[i,-2] == 1:\n",
    "        df.iat[i,-1] = r1m\n",
    "    elif df.iloc[i,-2] == 2:\n",
    "        df.iat[i,-1] = r2m\n",
    "    elif df.iloc[i,-2] == 3:\n",
    "        df.iat[i,-1] = r3m\n",
    "        \n",
    "df.head(10)"
   ]
  },
  {
   "cell_type": "code",
   "execution_count": 25,
   "metadata": {},
   "outputs": [],
   "source": [
    "# split data into input and output columns\n",
    "data = df.values\n",
    "X = data[:, 3:14]"
   ]
  },
  {
   "cell_type": "code",
   "execution_count": 26,
   "metadata": {},
   "outputs": [
    {
     "data": {
      "text/plain": [
       "array([[20.29, 14.34, 135.1, 1297.0, 0.1003, 0.1328, 0.198, 0.1043,\n",
       "        0.1809, 0.05882999999999999, 0.7572],\n",
       "       [12.75, 15.29, 84.6, 502.7, 0.1189, 0.1569, 0.1664, 0.07666,\n",
       "        0.1995, 0.07164, 0.3877],\n",
       "       [13.71, 20.83, 90.2, 577.9, 0.1189, 0.1645, 0.09366000000000001,\n",
       "        0.05985, 0.2196, 0.07451, 0.5835],\n",
       "       [14.54, 27.54, 96.73, 658.8, 0.1139, 0.1595, 0.1639, 0.07364,\n",
       "        0.2303, 0.07077, 0.37]], dtype=object)"
      ]
     },
     "execution_count": 26,
     "metadata": {},
     "output_type": "execute_result"
    }
   ],
   "source": [
    "X[0:4]"
   ]
  },
  {
   "cell_type": "code",
   "execution_count": 27,
   "metadata": {},
   "outputs": [],
   "source": [
    "y = data[:,-1]"
   ]
  },
  {
   "cell_type": "code",
   "execution_count": 28,
   "metadata": {},
   "outputs": [
    {
     "data": {
      "text/plain": [
       "array([16.0, 40.0, 40.0, 40.0, 40.0, 16.0, 24.0, 24.0, 40.0, 24.0, 40.0,\n",
       "       40.0, 40.0, 24.0, 16.0, 24.0, 24.0, 16.0, 24.0, 16.0, 13.0, 40.0,\n",
       "       40.0, 16.0, 16.0, 24.0, 24.0, 16.0, 16.0, 40.0, 13.0, 16.0, 13.0,\n",
       "       40.0, 16.0, 40.0, 16.0, 40.0, 24.0, 16.0, 16.0, 24.0, 16.0, 13.0,\n",
       "       24.0, 24.0, 16.0], dtype=object)"
      ]
     },
     "execution_count": 28,
     "metadata": {},
     "output_type": "execute_result"
    }
   ],
   "source": [
    "y"
   ]
  },
  {
   "cell_type": "code",
   "execution_count": 29,
   "metadata": {},
   "outputs": [],
   "source": [
    "X_train, X_test, y_train, y_test = train_test_split(X, y, test_size=0.2)"
   ]
  },
  {
   "cell_type": "markdown",
   "metadata": {},
   "source": [
    "OLS Regression on resampled data, in-sample and out-of-sample testing"
   ]
  },
  {
   "cell_type": "code",
   "execution_count": 30,
   "metadata": {},
   "outputs": [
    {
     "name": "stdout",
     "output_type": "stream",
     "text": [
      "r2= 0.8842524937539827\n"
     ]
    },
    {
     "data": {
      "text/plain": [
       "<matplotlib.legend.Legend at 0x1dba7930fc8>"
      ]
     },
     "execution_count": 30,
     "metadata": {},
     "output_type": "execute_result"
    },
    {
     "data": {
      "image/png": "[encoded data removed]",
      "text/plain": [
       "<Figure size 432x288 with 1 Axes>"
      ]
     },
     "metadata": {
      "needs_background": "light"
     },
     "output_type": "display_data"
    }
   ],
   "source": [
    "lr = LinearRegression().fit(X,y)\n",
    "r2 = lr.score(X,y)\n",
    "print('r2=',r2)\n",
    "\n",
    "lr_pred = lr.predict(X)\n",
    "\n",
    "plt.scatter(range(len(df)), df['rTimeC'], label='data')\n",
    "plt.scatter(range(len(df)), lr_pred, label = 'lr pred')\n",
    "plt.legend(loc='best')"
   ]
  },
  {
   "cell_type": "code",
   "execution_count": 31,
   "metadata": {},
   "outputs": [
    {
     "data": {
      "text/plain": [
       "<matplotlib.legend.Legend at 0x1dba79a4888>"
      ]
     },
     "execution_count": 31,
     "metadata": {},
     "output_type": "execute_result"
    },
    {
     "data": {
      "image/png": "[encoded data removed]",
      "text/plain": [
       "<Figure size 432x288 with 1 Axes>"
      ]
     },
     "metadata": {
      "needs_background": "light"
     },
     "output_type": "display_data"
    }
   ],
   "source": [
    "lr.fit(X_train, y_train)\n",
    "\n",
    "lr_pred = lr.predict(X_test)\n",
    "plt.scatter(range(len(X_test)), y_test, label='data')\n",
    "plt.scatter(range(len(X_test)), lr_pred, label = 'lr pred')\n",
    "plt.legend(loc='best')"
   ]
  },
  {
   "cell_type": "markdown",
   "metadata": {},
   "source": [
    "XGBoost Regression on resampled data, in-sample and out-of-sample testing"
   ]
  },
  {
   "cell_type": "code",
   "execution_count": 33,
   "metadata": {},
   "outputs": [
    {
     "name": "stdout",
     "output_type": "stream",
     "text": [
      "Mean MAE: 0.281 (0.386)\n"
     ]
    },
    {
     "data": {
      "text/plain": [
       "<matplotlib.legend.Legend at 0x1dba7a1cfc8>"
      ]
     },
     "execution_count": 33,
     "metadata": {},
     "output_type": "execute_result"
    },
    {
     "data": {
      "image/png": "[encoded data removed]",
      "text/plain": [
       "<Figure size 432x288 with 1 Axes>"
      ]
     },
     "metadata": {
      "needs_background": "light"
     },
     "output_type": "display_data"
    }
   ],
   "source": [
    "# create an xgboost regression model\n",
    "model = xgb.XGBRegressor(n_estimators=1000, max_depth=12, eta=0.1, subsample=0.7, colsample_bytree=0.8)\n",
    "\n",
    "# define model evaluation method\n",
    "cv = RepeatedKFold(n_splits=10, n_repeats=3, random_state=1)\n",
    "# evaluate model\n",
    "scores = cross_val_score(model, X, y, scoring='neg_mean_absolute_error', cv=cv, n_jobs=-1)\n",
    "\n",
    "# display scores - force scores to be positive to get mean error\n",
    "#print('Scores: ', scores)\n",
    "scores = np.absolute(scores)\n",
    "print('Mean MAE: %.3f (%.3f)' % (scores.mean(), scores.std()) )\n",
    "\n",
    "model.fit(X,y)\n",
    "xgb_pred = model.predict(X)\n",
    "for i in range(len(xgb_pred)):\n",
    "    xgb_pred[i] = xgb_pred[i]+scores.mean()\n",
    "\n",
    "plt.scatter(range(len(df)), df['rTimeC'], label='data')\n",
    "plt.scatter(range(len(df)), xgb_pred, label='xgb pred')\n",
    "plt.legend(loc='best')"
   ]
  },
  {
   "cell_type": "code",
   "execution_count": 34,
   "metadata": {},
   "outputs": [
    {
     "data": {
      "text/plain": [
       "<matplotlib.legend.Legend at 0x1dba7a84708>"
      ]
     },
     "execution_count": 34,
     "metadata": {},
     "output_type": "execute_result"
    },
    {
     "data": {
      "image/png": "[encoded data removed]",
      "text/plain": [
       "<Figure size 432x288 with 1 Axes>"
      ]
     },
     "metadata": {
      "needs_background": "light"
     },
     "output_type": "display_data"
    }
   ],
   "source": [
    "model.fit(X_train, y_train)\n",
    "xgb_pred = model.predict(X_test)\n",
    "\n",
    "for i in range(len(xgb_pred)):\n",
    "    xgb_pred[i] = xgb_pred[i]+scores.mean()\n",
    "    \n",
    "plt.scatter(range(len(X_test)), y_test, label='data')\n",
    "plt.scatter(range(len(X_test)), xgb_pred, label = 'xgb pred')\n",
    "plt.legend(loc='best')\n"
   ]
  },
  {
   "cell_type": "code",
   "execution_count": null,
   "metadata": {},
   "outputs": [],
   "source": []
  },
  {
   "cell_type": "code",
   "execution_count": null,
   "metadata": {},
   "outputs": [],
   "source": []
  }
 ],
 "metadata": {
  "kernelspec": {
   "display_name": "Python 3",
   "language": "python",
   "name": "python3"
  },
  "language_info": {
   "codemirror_mode": {
    "name": "ipython",
    "version": 3
   },
   "file_extension": ".py",
   "mimetype": "text/x-python",
   "name": "python",
   "nbconvert_exporter": "python",
   "pygments_lexer": "ipython3",
   "version": "3.7.4"
  }
 },
 "nbformat": 4,
 "nbformat_minor": 2
}
