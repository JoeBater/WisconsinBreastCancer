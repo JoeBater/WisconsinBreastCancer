{
 "cells": [
  {
   "cell_type": "code",
   "execution_count": 1,
   "metadata": {},
   "outputs": [],
   "source": [
    "# load libraries\n",
    "import pandas as pd\n",
    "import numpy as np\n",
    "import matplotlib.pyplot as plt\n",
    "import seaborn as sns"
   ]
  },
  {
   "cell_type": "code",
   "execution_count": 2,
   "metadata": {},
   "outputs": [],
   "source": [
    "# load data set\n",
    "wbcdfile = \"C:/Users/joeba/OneDrive/Documents/ML/wbcp/wbcp30.csv\"\n",
    "dataset = pd.read_csv(wbcdfile)"
   ]
  },
  {
   "cell_type": "code",
   "execution_count": 23,
   "metadata": {},
   "outputs": [
    {
     "data": {
      "text/plain": [
       "Index(['radius_m', 'texture_m', 'perimeter_m', 'area_m', 'smoothness_m',\n",
       "       'compactness_ m', 'concavity_m', 'concave_[ponts_m', 'symmetry_m',\n",
       "       'fractal_dimension_m', 'radius_s', 'texture_s', 'perimeter_s', 'area_s',\n",
       "       'smoothness_s', 'compactness_ m.1', 'concavity_s', 'concave_[ponts_s',\n",
       "       'symmetry_s', 'fractal_dimension_s', 'radius_w', 'texture_w',\n",
       "       'perimeter_w', 'area_w', 'smoothness_w', 'compactness_ m.2',\n",
       "       'concavity_w', 'concave_[ponts_w', 'symmetry_w', 'fractal_dimension_w',\n",
       "       'tumor_size', 'lymph_node_status'],\n",
       "      dtype='object')"
      ]
     },
     "execution_count": 23,
     "metadata": {},
     "output_type": "execute_result"
    }
   ],
   "source": [
    "X = dataset.iloc[:, 3:35].values\n",
    "x = dataset.iloc[:, 3:35].columns\n",
    "Y = dataset.iloc[:, 1].values\n",
    "y = ['N', 'R']\n",
    "\n",
    "x"
   ]
  },
  {
   "cell_type": "code",
   "execution_count": 14,
   "metadata": {},
   "outputs": [
    {
     "data": {
      "text/plain": [
       "array([[ 0.16123689,  1.11587983,  0.12067323, ..., -0.23228148,\n",
       "         1.25      ,  1.        ],\n",
       "       [ 0.15461071, -2.16881259,  0.28898063, ...,  1.29085593,\n",
       "         0.25      ,  0.25      ],\n",
       "       [ 0.90115958, -0.82212685,  0.75579549, ...,  0.15243472,\n",
       "         0.        , -0.25      ],\n",
       "       ...,\n",
       "       [-0.02650469,  1.41917024, -0.11749762, ..., -1.07107571,\n",
       "         0.6       , -0.25      ],\n",
       "       [ 0.9122032 ,  0.20791607,  0.99396634, ...,  0.11775381,\n",
       "         0.25      ,  0.        ],\n",
       "       [-0.13031474,  1.21697663, -0.10797078, ..., -0.263333  ,\n",
       "         0.5       , -0.25      ]])"
      ]
     },
     "execution_count": 14,
     "metadata": {},
     "output_type": "execute_result"
    }
   ],
   "source": [
    "# impute missing lymph node values\n",
    "pd.isna(X)\n",
    "\n",
    "#from sklearn.impute import KNNImputer\n",
    "from sklearn.impute import KNNImputer\n",
    "knn_imputer = KNNImputer(n_neighbors=2, weights='distance')\n",
    "X = knn_imputer.fit_transform(X)\n",
    "\n",
    "### simple imputer with a median strategy\n",
    "#from sklearn.impute import SimpleImputer\n",
    "#imputer = SimpleImputer(strategy='median', verbose=1)\n",
    "#X = imputer.fit_transform(X)\n",
    "\n",
    "X"
   ]
  },
  {
   "cell_type": "code",
   "execution_count": 15,
   "metadata": {},
   "outputs": [],
   "source": [
    "# scale the data\n",
    "from sklearn import preprocessing\n",
    "#X = preprocessing.scale(X)\n",
    "X = preprocessing.robust_scale(X)"
   ]
  },
  {
   "cell_type": "code",
   "execution_count": 16,
   "metadata": {},
   "outputs": [
    {
     "data": {
      "text/plain": [
       "array([0, 0, 0, 0, 1, 1, 0, 1, 0, 0, 0, 0, 0, 1, 0, 1, 0, 1, 0, 0, 0, 0,\n",
       "       0, 0, 0, 0, 0, 0, 0, 0, 0, 0, 0, 0, 1, 0, 0, 1, 0, 1, 1, 0, 1, 1,\n",
       "       0, 0, 1, 0, 1, 0, 1, 0, 0, 0, 0, 0, 1, 0, 0, 1, 0, 0, 1, 0, 0, 0,\n",
       "       0, 1, 0, 1, 0, 0, 0, 0, 0, 1, 0, 0, 0, 0, 0, 1, 0, 0, 0, 0, 0, 0,\n",
       "       1, 0, 0, 0, 0, 0, 0, 0, 0, 0, 0, 0, 0, 0, 0, 0, 0, 1, 0, 0, 0, 1,\n",
       "       1, 0, 1, 0, 1, 0, 0, 0, 0, 0, 1, 0, 0, 0, 0, 1, 0, 0, 1, 1, 0, 1,\n",
       "       1, 0, 0, 1, 0, 0, 0, 0, 0, 0, 0, 1, 0, 1, 0, 1, 0, 0, 1, 0, 1, 0,\n",
       "       0, 1, 0, 1, 0, 1, 0, 1, 0, 0, 0, 0, 0, 0, 0, 0, 0, 0, 0, 0, 0, 0,\n",
       "       1, 1, 0, 0, 0, 0, 0, 0, 0, 0, 0, 0, 0, 0, 0, 0, 0, 0, 0, 0, 1, 0])"
      ]
     },
     "execution_count": 16,
     "metadata": {},
     "output_type": "execute_result"
    }
   ],
   "source": [
    "# convert the 'N' and 'R' to 0 and 1 respectively for Y\n",
    "from sklearn.preprocessing import LabelEncoder\n",
    "le = LabelEncoder()\n",
    "y2 = le.fit_transform(Y)\n",
    "y2"
   ]
  },
  {
   "cell_type": "code",
   "execution_count": 17,
   "metadata": {},
   "outputs": [
    {
     "name": "stdout",
     "output_type": "stream",
     "text": [
      "50\n"
     ]
    }
   ],
   "source": [
    "# training test set split - 75% being used to train and ensuring even stratification of output in test set\n",
    "from sklearn.model_selection import train_test_split\n",
    "X_train, X_test, y_train, y_test = train_test_split(X, y2, test_size=0.25, random_state=1, stratify=None)\n",
    "print(len(y_test))"
   ]
  },
  {
   "cell_type": "code",
   "execution_count": 18,
   "metadata": {},
   "outputs": [
    {
     "data": {
      "text/plain": [
       "SVC(C=1.0, break_ties=False, cache_size=200, class_weight=None, coef0=0.0,\n",
       "    decision_function_shape='ovr', degree=3, gamma=0.15, kernel='rbf',\n",
       "    max_iter=-1, probability=False, random_state=None, shrinking=True,\n",
       "    tol=0.001, verbose=False)"
      ]
     },
     "execution_count": 18,
     "metadata": {},
     "output_type": "execute_result"
    }
   ],
   "source": [
    "from sklearn import svm\n",
    "svc = svm.SVC(gamma=0.15, kernel='rbf')\n",
    "svc.fit(X_test, y_test)"
   ]
  },
  {
   "cell_type": "code",
   "execution_count": 19,
   "metadata": {},
   "outputs": [
    {
     "data": {
      "text/plain": [
       "array([0., 1., 1., 0., 1., 0., 0., 1., 0., 0., 0., 0., 0., 1., 0., 0., 1.,\n",
       "       0., 1., 0., 0., 0., 0., 0., 0., 0., 0., 0., 0., 0., 0., 0., 1., 1.,\n",
       "       0., 0., 0., 1., 0., 0., 0., 0., 1., 0., 0., 0., 0., 0., 1., 0.])"
      ]
     },
     "execution_count": 19,
     "metadata": {},
     "output_type": "execute_result"
    }
   ],
   "source": [
    "# evaluate the performance of the neural network\n",
    "y_pred = svc.predict(X_test)\n",
    "y_pred = np.rint(y_pred)\n",
    "y_pred"
   ]
  },
  {
   "cell_type": "code",
   "execution_count": 20,
   "metadata": {},
   "outputs": [
    {
     "data": {
      "text/plain": [
       "array([[36,  0],\n",
       "       [ 2, 12]], dtype=int64)"
      ]
     },
     "execution_count": 20,
     "metadata": {},
     "output_type": "execute_result"
    }
   ],
   "source": [
    "from sklearn.metrics import confusion_matrix\n",
    "cm = confusion_matrix(y_test, y_pred)\n",
    "cm\n",
    "\n",
    "#            predicted\n",
    "#            N   P\n",
    "#           +-----\n",
    "# actual  N |TN  FP\n",
    "#         P |FN  TP"
   ]
  },
  {
   "cell_type": "code",
   "execution_count": 21,
   "metadata": {},
   "outputs": [
    {
     "name": "stdout",
     "output_type": "stream",
     "text": [
      "Accuracy : 0.960\n",
      "Error    : 0.040\n",
      "Precision: 0.857\n",
      "Recall   : 1.000\n"
     ]
    }
   ],
   "source": [
    "# what are the results?\n",
    "from sklearn.metrics import accuracy_score\n",
    "from sklearn.metrics import precision_score\n",
    "from sklearn.metrics import recall_score\n",
    "print('Accuracy : %.3f' % accuracy_score(y_pred, y_test))\n",
    "print('Error    : %.3f' % (1 - accuracy_score(y_pred, y_test)))\n",
    "print('Precision: %.3f' % precision_score(y_pred, y_test))\n",
    "print('Recall   : %.3f' % recall_score(y_pred, y_test))"
   ]
  },
  {
   "cell_type": "code",
   "execution_count": null,
   "metadata": {},
   "outputs": [],
   "source": []
  },
  {
   "cell_type": "code",
   "execution_count": null,
   "metadata": {},
   "outputs": [],
   "source": []
  }
 ],
 "metadata": {
  "kernelspec": {
   "display_name": "Python 3",
   "language": "python",
   "name": "python3"
  },
  "language_info": {
   "codemirror_mode": {
    "name": "ipython",
    "version": 3
   },
   "file_extension": ".py",
   "mimetype": "text/x-python",
   "name": "python",
   "nbconvert_exporter": "python",
   "pygments_lexer": "ipython3",
   "version": "3.7.4"
  }
 },
 "nbformat": 4,
 "nbformat_minor": 2
}
